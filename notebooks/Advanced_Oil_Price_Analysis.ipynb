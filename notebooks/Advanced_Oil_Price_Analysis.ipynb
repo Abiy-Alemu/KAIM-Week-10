{
 "cells": [
  {
   "cell_type": "markdown",
   "metadata": {},
   "source": [
    "# Import Libraries"
   ]
  },
  {
   "cell_type": "code",
   "execution_count": 1,
   "metadata": {},
   "outputs": [],
   "source": [
    "import pandas as pd\n",
    "import numpy as np\n",
    "import matplotlib.pyplot as plt\n",
    "import seaborn as sns\n",
    "from statsmodels.tsa.arima.model import ARIMA\n",
    "from statsmodels.tsa.statespace.varmax import VARMAX\n",
    "from arch import arch_model\n",
    "import tensorflow as tf\n",
    "from tensorflow.keras.models import Sequential\n",
    "from tensorflow.keras.layers import LSTM, Dense, Dropout\n",
    "from sklearn.preprocessing import MinMaxScaler\n",
    "\n",
    "# Set plot style\n",
    "plt.style.use('seaborn-v0_8-darkgrid')\n",
    "sns.set_palette(\"viridis\")\n"
   ]
  },
  {
   "cell_type": "markdown",
   "metadata": {},
   "source": [
    "#  Data Loading and Preprocessing"
   ]
  },
  {
   "cell_type": "code",
   "execution_count": 6,
   "metadata": {},
   "outputs": [
    {
     "name": "stderr",
     "output_type": "stream",
     "text": [
      "C:\\Users\\MMM\\AppData\\Local\\Temp\\ipykernel_12880\\953245643.py:6: UserWarning: Could not infer format, so each element will be parsed individually, falling back to `dateutil`. To ensure parsing is consistent and as-expected, please specify a format.\n",
      "  df = pd.read_csv(r'C:\\Users\\MMM\\Documents\\10 Academy File\\KAIM-Week-10\\data\\Copy of BrentOilPrices.csv', parse_dates=['Date'], index_col='Date')\n",
      "C:\\Users\\MMM\\AppData\\Local\\Temp\\ipykernel_12880\\953245643.py:9: FutureWarning: A value is trying to be set on a copy of a DataFrame or Series through chained assignment using an inplace method.\n",
      "The behavior will change in pandas 3.0. This inplace method will never work because the intermediate object on which we are setting values always behaves as a copy.\n",
      "\n",
      "For example, when doing 'df[col].method(value, inplace=True)', try using 'df.method({col: value}, inplace=True)' or df[col] = df[col].method(value) instead, to perform the operation inplace on the original object.\n",
      "\n",
      "\n",
      "  df['Price'].fillna(method='ffill', inplace=True)\n",
      "C:\\Users\\MMM\\AppData\\Local\\Temp\\ipykernel_12880\\953245643.py:9: FutureWarning: Series.fillna with 'method' is deprecated and will raise in a future version. Use obj.ffill() or obj.bfill() instead.\n",
      "  df['Price'].fillna(method='ffill', inplace=True)\n"
     ]
    }
   ],
   "source": [
    "import pandas as pd\n",
    "import numpy as np\n",
    "from datetime import datetime\n",
    "\n",
    "# Load the dataset\n",
    "df = pd.read_csv(r'C:\\Users\\MMM\\Documents\\10 Academy File\\KAIM-Week-10\\data\\Copy of BrentOilPrices.csv', parse_dates=['Date'], index_col='Date')\n",
    "\n",
    "# Handle missing values and outliers\n",
    "df['Price'].fillna(method='ffill', inplace=True)\n",
    "df = df[df['Price'] > 0]  # Filter out any zero or negative prices if present\n",
    "\n",
    "# Feature Engineering: Calculate rolling means or differences if needed\n",
    "df['Price_diff'] = df['Price'].diff().dropna()\n"
   ]
  },
  {
   "cell_type": "markdown",
   "metadata": {},
   "source": [
    "# Exploratory Data Analysis (EDA)"
   ]
  },
  {
   "cell_type": "code",
   "execution_count": null,
   "metadata": {},
   "outputs": [],
   "source": [
    "# Plot Brent oil prices\n",
    "plt.figure(figsize=(12, 6))\n",
    "plt.plot(df['Price'], color='purple')\n",
    "plt.title('Brent Oil Prices Over Time')\n",
    "plt.xlabel('Date')\n",
    "plt.ylabel('Price')\n",
    "plt.show()\n",
    "\n",
    "# GDP vs. Brent oil prices correlation\n",
    "plt.figure(figsize=(12, 6))\n",
    "sns.scatterplot(x=df['GDP'], y=df['Price'], color='blue')\n",
    "plt.title('GDP vs Brent Oil Prices')\n",
    "plt.xlabel('GDP')\n",
    "plt.ylabel('Brent Oil Price')\n",
    "plt.show()\n"
   ]
  },
  {
   "cell_type": "markdown",
   "metadata": {},
   "source": [
    "# Model Building"
   ]
  },
  {
   "cell_type": "markdown",
   "metadata": {},
   "source": [
    "A. ARIMA and GARCH"
   ]
  },
  {
   "cell_type": "code",
   "execution_count": null,
   "metadata": {},
   "outputs": [],
   "source": [
    "# ARIMA Model\n",
    "arima_model = ARIMA(df['Price'], order=(1, 1, 1))\n",
    "arima_fit = arima_model.fit()\n",
    "print(arima_fit.summary())\n",
    "\n",
    "# GARCH Model\n",
    "garch_model = arch_model(df['Price'], vol='Garch', p=1, q=1)\n",
    "garch_fit = garch_model.fit(disp=\"off\")\n",
    "print(garch_fit.summary())\n"
   ]
  },
  {
   "cell_type": "markdown",
   "metadata": {},
   "source": [
    "B. VAR (Vector Autoregression)"
   ]
  },
  {
   "cell_type": "code",
   "execution_count": null,
   "metadata": {},
   "outputs": [],
   "source": [
    "# VAR Model with Oil and GDP\n",
    "var_model = VARMAX(df[['Price', 'GDP']], order=(1, 1))\n",
    "var_fit = var_model.fit(disp=False)\n",
    "print(var_fit.summary())\n"
   ]
  },
  {
   "cell_type": "markdown",
   "metadata": {},
   "source": [
    "C. Markov-Switching Model"
   ]
  },
  {
   "cell_type": "code",
   "execution_count": null,
   "metadata": {},
   "outputs": [],
   "source": [
    "from statsmodels.tsa.regime_switching.markov_regression import MarkovRegression\n",
    "\n",
    "# Fit Markov Switching Model\n",
    "ms_model = MarkovRegression(df['Price'], k_regimes=2, trend='c', switching_variance=True)\n",
    "ms_fit = ms_model.fit()\n",
    "print(ms_fit.summary())\n"
   ]
  },
  {
   "cell_type": "markdown",
   "metadata": {},
   "source": [
    "D. LSTM for Sequence Prediction"
   ]
  },
  {
   "cell_type": "code",
   "execution_count": null,
   "metadata": {},
   "outputs": [],
   "source": [
    "# Prepare data for LSTM\n",
    "train_size = int(len(df_scaled) * 0.8)\n",
    "train, test = df_scaled[:train_size], df_scaled[train_size:]\n",
    "\n",
    "# Reshape for LSTM\n",
    "def create_sequences(data, seq_length=10):\n",
    "    x, y = [], []\n",
    "    for i in range(len(data) - seq_length):\n",
    "        x.append(data[i:i+seq_length])\n",
    "        y.append(data[i+seq_length, 0])  # predicting the 'Price'\n",
    "    return np.array(x), np.array(y)\n",
    "\n",
    "seq_length = 10\n",
    "X_train, y_train = create_sequences(train, seq_length)\n",
    "X_test, y_test = create_sequences(test, seq_length)\n",
    "\n",
    "# LSTM Model\n",
    "model = Sequential([\n",
    "    LSTM(50, return_sequences=True, input_shape=(X_train.shape[1], X_train.shape[2])),\n",
    "    Dropout(0.2),\n",
    "    LSTM(50),\n",
    "    Dropout(0.2),\n",
    "    Dense(1)\n",
    "])\n",
    "\n",
    "model.compile(optimizer='adam', loss='mean_squared_error')\n",
    "history = model.fit(X_train, y_train, epochs=10, batch_size=32, validation_data=(X_test, y_test))\n"
   ]
  },
  {
   "cell_type": "markdown",
   "metadata": {},
   "source": [
    "# Model Evaluation"
   ]
  },
  {
   "cell_type": "code",
   "execution_count": null,
   "metadata": {},
   "outputs": [],
   "source": [
    "from sklearn.metrics import mean_squared_error\n",
    "\n",
    "# ARIMA Predictions\n",
    "arima_pred = arima_fit.forecast(steps=len(test))\n",
    "rmse_arima = np.sqrt(mean_squared_error(df['Price'].iloc[-len(test):], arima_pred))\n",
    "print(f'ARIMA RMSE: {rmse_arima}')\n",
    "\n",
    "# LSTM Predictions\n",
    "lstm_pred = model.predict(X_test)\n",
    "lstm_pred = scaler.inverse_transform(np.concatenate([lstm_pred, np.zeros_like(lstm_pred)], axis=1))[:, 0]\n",
    "rmse_lstm = np.sqrt(mean_squared_error(df['Price'].iloc[-len(lstm_pred):], lstm_pred))\n",
    "print(f'LSTM RMSE: {rmse_lstm}')\n"
   ]
  },
  {
   "cell_type": "markdown",
   "metadata": {},
   "source": [
    "# Insight Generation"
   ]
  },
  {
   "cell_type": "markdown",
   "metadata": {},
   "source": [
    "This notebook provides a thorough framework for analyzing oil price data using a variety of time series and econometric models, as well as considering external factors such as economic and political influences. Let me know if you’d like additional help with any specific section!"
   ]
  }
 ],
 "metadata": {
  "kernelspec": {
   "display_name": "myenv",
   "language": "python",
   "name": "python3"
  },
  "language_info": {
   "codemirror_mode": {
    "name": "ipython",
    "version": 3
   },
   "file_extension": ".py",
   "mimetype": "text/x-python",
   "name": "python",
   "nbconvert_exporter": "python",
   "pygments_lexer": "ipython3",
   "version": "3.10.11"
  }
 },
 "nbformat": 4,
 "nbformat_minor": 2
}
